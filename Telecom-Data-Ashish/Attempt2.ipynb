{
 "cells": [
  {
   "cell_type": "code",
   "execution_count": 29,
   "metadata": {},
   "outputs": [],
   "source": [
    "import numpy as np\n",
    "import pandas as pd\n",
    "from sklearn.svm import SVC\n",
    "from sklearn.model_selection import train_test_split\n",
    "from sklearn.linear_model import LogisticRegression\n",
    "from sklearn.metrics import roc_auc_score,roc_curve,confusion_matrix\n",
    "from sklearn.discriminant_analysis import LinearDiscriminantAnalysis\n",
    "from sklearn.discriminant_analysis import QuadraticDiscriminantAnalysis\n",
    "from sklearn.tree import DecisionTreeClassifier\n",
    "from sklearn.ensemble import RandomForestClassifier\n",
    "from sklearn.ensemble import AdaBoostClassifier\n",
    "from sklearn.neural_network import MLPClassifier \n",
    "from sklearn.model_selection import cross_val_score\n",
    "from sklearn.linear_model import RidgeClassifier,RidgeClassifierCV\n",
    "import matplotlib.pyplot as plt"
   ]
  },
  {
   "cell_type": "code",
   "execution_count": 15,
   "metadata": {},
   "outputs": [],
   "source": [
    "impfeatures = pd.read_csv('imp_finalDat.csv')\n",
    "impfeatures_scaled = pd.read_csv('imp_finalDat_scaled.csv')\n",
    "allfeature = pd.read_csv('mobile_data_clean_encoded.csv')\n",
    "allfeature_scaled = pd.read_csv('mobile_data_clean_encoded_scaled.csv')"
   ]
  },
  {
   "cell_type": "code",
   "execution_count": 128,
   "metadata": {},
   "outputs": [],
   "source": [
    "def evaluate(model, test_features, test_labels):\n",
    "    predictions = model.predict(test_features)\n",
    "    errors = abs(predictions - test_labels)\n",
    "    mape = 100 * np.mean(errors / test_labels)\n",
    "    accuracy = 100 - mape\n",
    "    print('Model Performance')\n",
    "    print('Average Error: {:0.4f} degrees.'.format(np.mean(errors)))\n",
    "    print('Accuracy = {:0.2f}%.'.format(accuracy))\n",
    "    \n",
    "    return accuracy"
   ]
  },
  {
   "cell_type": "markdown",
   "metadata": {},
   "source": [
    "<h1>Regular Logistic Regression with important features</h1>"
   ]
  },
  {
   "cell_type": "code",
   "execution_count": 108,
   "metadata": {},
   "outputs": [
    {
     "name": "stdout",
     "output_type": "stream",
     "text": [
      "       mou_Mean  totmrc_Mean  mou_Range  owylis_vce_Range  months  totcalls  \\\n",
      "6        421.25      44.9900      254.0                19       9       531   \n",
      "32774    797.75      44.9900      458.0                 5      18      1290   \n",
      "5689     165.75      29.9900       93.0                 0      18       394   \n",
      "40076    713.00      17.7400      207.0                22      15      3427   \n",
      "55302     78.25      39.9900       82.0                 0      13       268   \n",
      "29265   2388.25     199.9900      680.0                11      26     21682   \n",
      "64790    249.50       5.2400      998.0                14       7      1837   \n",
      "55807    606.00      69.9900     1177.0                21       7      1261   \n",
      "21331    855.25      55.1500      348.0                 9      28      4714   \n",
      "42610    825.50      20.0000      157.0                25      14      4166   \n",
      "49128    533.00      49.9900      266.0                 0       9      1370   \n",
      "66154    235.50      29.9900      159.0                28      31      1795   \n",
      "44796     87.75      29.9900      117.0                 3      15       348   \n",
      "21180    176.25      42.4900       81.0                 7      32      1785   \n",
      "32505     28.00      16.9900       41.0                 0      23       189   \n",
      "20504    526.00      34.9800     1037.0                 6      35      5509   \n",
      "14857    481.75      44.9900      543.0                68       7       732   \n",
      "35751   2581.50      75.0000     2374.0               146      16     13831   \n",
      "37173    195.00      45.0000       53.0                10      15      1444   \n",
      "55074    933.25      54.9900      500.0                15       7       907   \n",
      "65359      0.00       9.7500        0.0                 0      41       409   \n",
      "18994    782.75      69.9900      555.0                20      33      6755   \n",
      "12784    451.00      42.4900      345.0                11      23      3560   \n",
      "15139   1028.50      59.9900      494.0                 9      23      7082   \n",
      "44816    146.25      39.9900      100.0                 7      17      1036   \n",
      "7097     162.25      10.0000      265.0                31      11       661   \n",
      "6261    1800.00      45.0000      999.0                 5      25      7510   \n",
      "6529      44.50      29.9900       76.0                 2      22       440   \n",
      "54939   1246.50      44.9900       98.0                15      13      3297   \n",
      "62601   1219.25      69.9900      789.0               110       8      3264   \n",
      "...         ...          ...        ...               ...     ...       ...   \n",
      "58146    502.00      49.9900      193.0                 6      10      1080   \n",
      "17591    728.75      42.0875      540.0                 9      39      6640   \n",
      "43890    157.25      29.9900      160.0                 0      17       672   \n",
      "11723   1834.25      97.0300     1800.0                47       8      2454   \n",
      "49866   1001.00      39.9900      596.0                 0      10      2647   \n",
      "41504    506.00      59.9900      109.0                 0      18      1696   \n",
      "52489    731.75      72.4900      258.0                13      14      3336   \n",
      "49811   1120.25      47.9900      403.0                75      14      3883   \n",
      "797        0.00      39.9900        0.0                 0      16      1179   \n",
      "31921    254.25      35.0800      370.0                16      19      1246   \n",
      "24675    584.75      10.0000      274.0                 4      25      5048   \n",
      "47954    611.25      74.9900      185.0                 6      11      1555   \n",
      "2496     433.75      30.0000      323.0                11      21      3073   \n",
      "1871     597.25      59.9900      217.0                 3      35      4708   \n",
      "7877     342.50      59.9900      318.0                19      15      2083   \n",
      "37619    149.75      29.9900      102.0                10      17      2047   \n",
      "38804    178.50      49.9900      162.0                 2      16       875   \n",
      "6921     636.00      59.9900      507.0                38      39      2722   \n",
      "18983    617.50      45.1150      113.0                 6      35      5582   \n",
      "32230    335.25      30.0000      412.0                 3      19      2093   \n",
      "17089   2770.00     111.9250      310.0                 9      45     32827   \n",
      "52620    563.75      47.4900      490.0                22       9       749   \n",
      "39512    244.25      59.9900      128.0                 8      20      2797   \n",
      "48600    461.50      39.9900      254.0                 0      11       528   \n",
      "55026    991.00      44.9900      338.0                15       7      2070   \n",
      "41993    261.25      49.9900      302.0                 2      16      1297   \n",
      "21243    281.50      44.9900      268.0                 5      34      4397   \n",
      "45891      3.00      10.0000        6.0                 0      14        35   \n",
      "42613   3315.25     159.9900     2168.0                28      14      7242   \n",
      "43567    647.50      30.0000      174.0                10      13      1567   \n",
      "\n",
      "       eqpdays  adjqty  ovrrev_Mean  rev_Mean       ...         asl_flag_N  \\\n",
      "6        279.0     522       5.6875   40.6775       ...                  1   \n",
      "32774      9.0    1287       0.9000   36.4525       ...                  1   \n",
      "5689     532.0     385       3.7625   33.7525       ...                  1   \n",
      "40076    218.0    3342      40.8750   58.6150       ...                  1   \n",
      "55302    374.0     267       0.0000   30.2375       ...                  1   \n",
      "29265    249.0   21562       0.0000  207.4275       ...                  1   \n",
      "64790    178.0    1830      15.4000   56.6300       ...                  0   \n",
      "55807    203.0    1258       0.0000   56.6775       ...                  0   \n",
      "21331     19.0    4696      32.4000   77.8650       ...                  0   \n",
      "42610    416.0    4120       0.0000   14.0000       ...                  1   \n",
      "49128    267.0    1204      46.7000   99.1950       ...                  1   \n",
      "66154    298.0    1717      28.0000   57.9900       ...                  1   \n",
      "44796    431.0     347       0.0000   29.9900       ...                  1   \n",
      "21180    318.0    1687       0.0000   45.7400       ...                  1   \n",
      "32505    669.0     189       1.3125   22.3525       ...                  1   \n",
      "20504    391.0    5493      31.7250   76.2000       ...                  1   \n",
      "14857    225.0     725       3.5975   41.0450       ...                  1   \n",
      "35751     31.0   13791     172.0000  284.2550       ...                  1   \n",
      "37173    459.0    1432       3.3125   49.2125       ...                  1   \n",
      "55074    207.0     905       2.5375   43.8325       ...                  1   \n",
      "65359   1251.0     396       0.0000    9.8850       ...                  1   \n",
      "18994    104.0    6693      13.7000   77.4450       ...                  1   \n",
      "12784    688.0    3530      12.3750   61.4750       ...                  1   \n",
      "15139    680.0    7053       4.4550   54.9400       ...                  1   \n",
      "44816    492.0    1033       0.0000   30.8600       ...                  1   \n",
      "7097     104.0     607       7.3500   18.9625       ...                  1   \n",
      "6261     159.0    7443     116.4800  294.7200       ...                  1   \n",
      "6529     654.0     434       0.0000   29.9900       ...                  1   \n",
      "54939    376.0    3297       0.0000   34.9900       ...                  0   \n",
      "62601     44.0    3264      24.2000   81.3800       ...                  0   \n",
      "...        ...     ...          ...       ...       ...                ...   \n",
      "58146    293.0    1080       1.7000   41.9375       ...                  0   \n",
      "17591    142.0    6630      15.1375   50.2650       ...                  1   \n",
      "43890    503.0     672       4.8125   35.0500       ...                  1   \n",
      "11723     54.0    2387     103.9000  214.7150       ...                  1   \n",
      "49866    317.0    2607      42.3500   75.0250       ...                  0   \n",
      "41504    464.0    1696       0.0000   53.2400       ...                  1   \n",
      "52489    214.0    3262       0.0000   68.1825       ...                  1   \n",
      "49811    239.0    3881      10.7625   74.1200       ...                  0   \n",
      "797      461.0    1175       0.0000   29.9900       ...                  1   \n",
      "31921     16.0    1110      10.4125   44.0275       ...                  1   \n",
      "24675    766.0    4963       0.0000   11.5950       ...                  1   \n",
      "47954     87.0    1554       0.0000   78.4550       ...                  1   \n",
      "2496     632.0    3072       6.2125   43.6075       ...                  1   \n",
      "1871      87.0    4672       5.0850   55.3225       ...                  1   \n",
      "7877     432.0    2083       0.0000   51.7975       ...                  1   \n",
      "37619    433.0    2046       0.0000   30.1400       ...                  1   \n",
      "38804    445.0     867       0.0000   51.5100       ...                  1   \n",
      "6921     563.0    2674       5.4750   57.3325       ...                  1   \n",
      "18983     35.0    5555      71.0000  148.0150       ...                  1   \n",
      "32230    564.0    1864      15.6725   45.9425       ...                  1   \n",
      "17089    627.0   32526      59.9375  165.1050       ...                  1   \n",
      "52620    288.0     749       0.0000   37.6850       ...                  1   \n",
      "39512    408.0    2612       0.0000   59.9900       ...                  1   \n",
      "48600    337.0     525       7.5250   32.2525       ...                  0   \n",
      "55026    207.0    2016      22.3125   52.7850       ...                  1   \n",
      "41993    474.0    1291       0.0000   80.3775       ...                  1   \n",
      "21243     53.0    4389      11.5025   47.0425       ...                  1   \n",
      "45891    417.0      35       0.0000   10.0000       ...                  1   \n",
      "42613    110.0    6761      10.7625  179.0325       ...                  0   \n",
      "43567    401.0    1563       3.3250   35.6500       ...                  1   \n",
      "\n",
      "       area_mod_medium  area_mod_low  crclscod_mod_b  crclscod_mod_a  \\\n",
      "6                    1             0               1               0   \n",
      "32774                0             0               1               0   \n",
      "5689                 0             0               0               1   \n",
      "40076                0             1               1               0   \n",
      "55302                0             0               1               0   \n",
      "29265                1             0               0               1   \n",
      "64790                1             0               0               0   \n",
      "55807                0             1               1               0   \n",
      "21331                0             1               0               0   \n",
      "42610                0             0               0               0   \n",
      "49128                0             1               0               1   \n",
      "66154                1             0               0               0   \n",
      "44796                0             1               1               0   \n",
      "21180                0             0               0               1   \n",
      "32505                0             0               1               0   \n",
      "20504                0             1               0               1   \n",
      "14857                0             0               1               0   \n",
      "35751                0             0               1               0   \n",
      "37173                0             1               1               0   \n",
      "55074                0             1               1               0   \n",
      "65359                1             0               0               1   \n",
      "18994                0             1               1               0   \n",
      "12784                1             0               1               0   \n",
      "15139                1             0               1               0   \n",
      "44816                1             0               1               0   \n",
      "7097                 0             0               0               1   \n",
      "6261                 0             1               1               0   \n",
      "6529                 0             1               1               0   \n",
      "54939                1             0               1               0   \n",
      "62601                1             0               0               0   \n",
      "...                ...           ...             ...             ...   \n",
      "58146                0             1               0               0   \n",
      "17591                1             0               0               1   \n",
      "43890                1             0               1               0   \n",
      "11723                0             1               1               0   \n",
      "49866                1             0               1               0   \n",
      "41504                0             1               0               1   \n",
      "52489                1             0               1               0   \n",
      "49811                0             1               1               0   \n",
      "797                  0             1               1               0   \n",
      "31921                1             0               0               1   \n",
      "24675                1             0               0               1   \n",
      "47954                0             1               1               0   \n",
      "2496                 1             0               1               0   \n",
      "1871                 1             0               0               1   \n",
      "7877                 1             0               1               0   \n",
      "37619                0             1               1               0   \n",
      "38804                0             1               1               0   \n",
      "6921                 1             0               0               1   \n",
      "18983                0             1               0               1   \n",
      "32230                0             0               0               1   \n",
      "17089                1             0               0               1   \n",
      "52620                0             1               1               0   \n",
      "39512                1             0               1               0   \n",
      "48600                0             1               1               0   \n",
      "55026                0             1               0               1   \n",
      "41993                1             0               1               0   \n",
      "21243                0             1               0               1   \n",
      "45891                1             0               0               1   \n",
      "42613                1             0               1               0   \n",
      "43567                0             0               1               0   \n",
      "\n",
      "       ethnic_mod_medium  ethnic_mod_low  age1_mod_age30_54  age1_mod_youth  \\\n",
      "6                      1               0                  1               0   \n",
      "32774                  0               0                  1               0   \n",
      "5689                   1               0                  0               0   \n",
      "40076                  1               0                  1               0   \n",
      "55302                  1               0                  1               0   \n",
      "29265                  1               0                  1               0   \n",
      "64790                  1               0                  1               0   \n",
      "55807                  1               0                  0               1   \n",
      "21331                  1               0                  1               0   \n",
      "42610                  1               0                  1               0   \n",
      "49128                  1               0                  0               0   \n",
      "66154                  1               0                  1               0   \n",
      "44796                  1               0                  0               0   \n",
      "21180                  1               0                  1               0   \n",
      "32505                  1               0                  1               0   \n",
      "20504                  1               0                  1               0   \n",
      "14857                  1               0                  1               0   \n",
      "35751                  1               0                  1               0   \n",
      "37173                  1               0                  1               0   \n",
      "55074                  1               0                  1               0   \n",
      "65359                  0               1                  1               0   \n",
      "18994                  1               0                  0               0   \n",
      "12784                  0               0                  1               0   \n",
      "15139                  1               0                  1               0   \n",
      "44816                  1               0                  1               0   \n",
      "7097                   1               0                  0               0   \n",
      "6261                   1               0                  1               0   \n",
      "6529                   1               0                  1               0   \n",
      "54939                  1               0                  1               0   \n",
      "62601                  1               0                  1               0   \n",
      "...                  ...             ...                ...             ...   \n",
      "58146                  1               0                  1               0   \n",
      "17591                  1               0                  1               0   \n",
      "43890                  1               0                  1               0   \n",
      "11723                  1               0                  1               0   \n",
      "49866                  1               0                  1               0   \n",
      "41504                  1               0                  0               0   \n",
      "52489                  1               0                  1               0   \n",
      "49811                  1               0                  1               0   \n",
      "797                    1               0                  1               0   \n",
      "31921                  1               0                  1               0   \n",
      "24675                  1               0                  1               0   \n",
      "47954                  1               0                  1               0   \n",
      "2496                   0               1                  1               0   \n",
      "1871                   1               0                  1               0   \n",
      "7877                   1               0                  1               0   \n",
      "37619                  0               1                  1               0   \n",
      "38804                  1               0                  1               0   \n",
      "6921                   1               0                  0               0   \n",
      "18983                  1               0                  1               0   \n",
      "32230                  1               0                  1               0   \n",
      "17089                  1               0                  1               0   \n",
      "52620                  1               0                  1               0   \n",
      "39512                  1               0                  1               0   \n",
      "48600                  1               0                  1               0   \n",
      "55026                  1               0                  1               0   \n",
      "41993                  1               0                  1               0   \n",
      "21243                  1               0                  1               0   \n",
      "45891                  1               0                  1               0   \n",
      "42613                  1               0                  1               0   \n",
      "43567                  1               0                  1               0   \n",
      "\n",
      "       age1_mod_late20  \n",
      "6                    0  \n",
      "32774                0  \n",
      "5689                 0  \n",
      "40076                0  \n",
      "55302                0  \n",
      "29265                0  \n",
      "64790                0  \n",
      "55807                0  \n",
      "21331                0  \n",
      "42610                0  \n",
      "49128                1  \n",
      "66154                0  \n",
      "44796                0  \n",
      "21180                0  \n",
      "32505                0  \n",
      "20504                0  \n",
      "14857                0  \n",
      "35751                0  \n",
      "37173                0  \n",
      "55074                0  \n",
      "65359                0  \n",
      "18994                1  \n",
      "12784                0  \n",
      "15139                0  \n",
      "44816                0  \n",
      "7097                 0  \n",
      "6261                 0  \n",
      "6529                 0  \n",
      "54939                0  \n",
      "62601                0  \n",
      "...                ...  \n",
      "58146                0  \n",
      "17591                0  \n",
      "43890                0  \n",
      "11723                0  \n",
      "49866                0  \n",
      "41504                0  \n",
      "52489                0  \n",
      "49811                0  \n",
      "797                  0  \n",
      "31921                0  \n",
      "24675                0  \n",
      "47954                0  \n",
      "2496                 0  \n",
      "1871                 0  \n",
      "7877                 0  \n",
      "37619                0  \n",
      "38804                0  \n",
      "6921                 0  \n",
      "18983                0  \n",
      "32230                0  \n",
      "17089                0  \n",
      "52620                0  \n",
      "39512                0  \n",
      "48600                0  \n",
      "55026                0  \n",
      "41993                0  \n",
      "21243                0  \n",
      "45891                0  \n",
      "42613                0  \n",
      "43567                0  \n",
      "\n",
      "[49722 rows x 28 columns]\n"
     ]
    }
   ],
   "source": [
    "dat = impfeatures.drop('churn',axis=1)\n",
    "dat = dat.drop('Customer_ID',axis=1)\n",
    "target = impfeatures['churn']\n",
    "X_train,X_test,Y_train,Y_test = train_test_split(dat,target,random_state=0)\n"
   ]
  },
  {
   "cell_type": "code",
   "execution_count": 110,
   "metadata": {},
   "outputs": [],
   "source": [
    "logReg = LogisticRegression()\n",
    "mod = logReg.fit(X_train,Y_train)\n",
    "#mod.score(X_test,Y_test)"
   ]
  },
  {
   "cell_type": "code",
   "execution_count": 119,
   "metadata": {},
   "outputs": [
    {
     "name": "stdout",
     "output_type": "stream",
     "text": [
      "Accuracy on train data -  0.7591207111540164\n",
      "Accuracy on test data -  0.7637405731523379\n"
     ]
    }
   ],
   "source": [
    "print(\"Accuracy on train data - \", mod.score(X_train,Y_train))\n",
    "print(\"Accuracy on test data - \", mod.score(X_test,Y_test))"
   ]
  },
  {
   "cell_type": "code",
   "execution_count": 120,
   "metadata": {},
   "outputs": [],
   "source": [
    "Y_test_pred = mod.predict(X_test)\n",
    "test_probs = mod.predict_proba(X_test)\n",
    "fpr,tpr,threshold = roc_curve(Y_test,test_probs[:,1])"
   ]
  },
  {
   "cell_type": "code",
   "execution_count": 121,
   "metadata": {},
   "outputs": [
    {
     "name": "stdout",
     "output_type": "stream",
     "text": [
      "AUC: 0.614\n"
     ]
    }
   ],
   "source": [
    "# calculate AUC\n",
    "auc = roc_auc_score(Y_test, test_probs[:,1])\n",
    "print('AUC: %.3f' % auc)"
   ]
  },
  {
   "cell_type": "code",
   "execution_count": 122,
   "metadata": {},
   "outputs": [
    {
     "name": "stderr",
     "output_type": "stream",
     "text": [
      "No handles with labels found to put in legend.\n"
     ]
    },
    {
     "data": {
      "image/png": "[encoded data removed]",
      "text/plain": [
       "<Figure size 432x288 with 1 Axes>"
      ]
     },
     "metadata": {},
     "output_type": "display_data"
    }
   ],
   "source": [
    "plt.figure()\n",
    "plt.plot(fpr,tpr)\n",
    "plt.plot([0, 1], [0, 1], color='navy', lw=1, linestyle='--')\n",
    "plt.xlim([0.0, 1.0])\n",
    "plt.ylim([0.0, 1.05])\n",
    "plt.xlabel('False Positive Rate')\n",
    "plt.ylabel('True Positive Rate')\n",
    "plt.title('Receiver operating characteristic')\n",
    "plt.legend(loc=\"lower right\")\n",
    "plt.show()"
   ]
  },
  {
   "cell_type": "code",
   "execution_count": 115,
   "metadata": {},
   "outputs": [
    {
     "name": "stdout",
     "output_type": "stream",
     "text": [
      "[[12628    43]\n",
      " [ 3886    18]]\n"
     ]
    }
   ],
   "source": [
    "confusion=confusion_matrix(Y_test,Y_test_pred)\n",
    "print(confusion)"
   ]
  },
  {
   "cell_type": "markdown",
   "metadata": {},
   "source": [
    "<h1>Regular Logistic Regression with All feature scaled</h1>"
   ]
  },
  {
   "cell_type": "code",
   "execution_count": 117,
   "metadata": {},
   "outputs": [],
   "source": [
    "dat = allfeature_scaled.drop('churn',axis=1)\n",
    "dat = dat.drop('Customer_ID',axis=1)\n",
    "target = allfeature_scaled['churn']\n",
    "X_train,X_test,Y_train,Y_test = train_test_split(dat,target,random_state=0)\n"
   ]
  },
  {
   "cell_type": "code",
   "execution_count": 123,
   "metadata": {},
   "outputs": [],
   "source": [
    "logReg = LogisticRegression()\n",
    "mod = logReg.fit(X_train,Y_train)\n",
    "#mod.score(X_test,Y_test)"
   ]
  },
  {
   "cell_type": "code",
   "execution_count": 124,
   "metadata": {},
   "outputs": [
    {
     "name": "stdout",
     "output_type": "stream",
     "text": [
      "Accuracy on train data -  0.7591207111540164\n",
      "Accuracy on test data -  0.7637405731523379\n",
      "AUC: 0.614\n"
     ]
    }
   ],
   "source": [
    "print(\"Accuracy on train data - \", mod.score(X_train,Y_train))\n",
    "print(\"Accuracy on test data - \", mod.score(X_test,Y_test))\n",
    "Y_test_pred = mod.predict(X_test)\n",
    "test_probs = mod.predict_proba(X_test)\n",
    "fpr,tpr,threshold = roc_curve(Y_test,test_probs[:,1])\n",
    "# calculate AUC\n",
    "auc = roc_auc_score(Y_test, test_probs[:,1])\n",
    "print('AUC: %.3f' % auc)"
   ]
  },
  {
   "cell_type": "code",
   "execution_count": 125,
   "metadata": {},
   "outputs": [
    {
     "name": "stdout",
     "output_type": "stream",
     "text": [
      "[[12637    34]\n",
      " [ 3882    22]]\n"
     ]
    }
   ],
   "source": [
    "confusion=confusion_matrix(Y_test,Y_test_pred)\n",
    "print(confusion)"
   ]
  },
  {
   "cell_type": "code",
   "execution_count": 126,
   "metadata": {},
   "outputs": [
    {
     "name": "stderr",
     "output_type": "stream",
     "text": [
      "No handles with labels found to put in legend.\n"
     ]
    },
    {
     "data": {
      "image/png": "[encoded data removed]",
      "text/plain": [
       "<Figure size 432x288 with 1 Axes>"
      ]
     },
     "metadata": {},
     "output_type": "display_data"
    }
   ],
   "source": [
    "plt.figure()\n",
    "plt.plot(fpr,tpr)\n",
    "plt.plot([0, 1], [0, 1], color='navy', lw=1, linestyle='--')\n",
    "plt.xlim([0.0, 1.0])\n",
    "plt.ylim([0.0, 1.05])\n",
    "plt.xlabel('False Positive Rate')\n",
    "plt.ylabel('True Positive Rate')\n",
    "plt.title('Receiver operating characteristic')\n",
    "plt.legend(loc=\"lower right\")\n",
    "plt.show()"
   ]
  },
  {
   "cell_type": "code",
   "execution_count": 127,
   "metadata": {},
   "outputs": [
    {
     "ename": "TypeError",
     "evalue": "__init__() got an unexpected keyword argument 'store_cv_values'",
     "output_type": "error",
     "traceback": [
      "\u001b[1;31m---------------------------------------------------------------------------\u001b[0m",
      "\u001b[1;31mTypeError\u001b[0m                                 Traceback (most recent call last)",
      "\u001b[1;32m<ipython-input-127-51a934c794aa>\u001b[0m in \u001b[0;36m<module>\u001b[1;34m()\u001b[0m\n\u001b[0;32m      2\u001b[0m \u001b[0mfinal_c\u001b[0m \u001b[1;33m=\u001b[0m \u001b[1;32mNone\u001b[0m\u001b[1;33m\u001b[0m\u001b[0m\n\u001b[0;32m      3\u001b[0m \u001b[0mc\u001b[0m \u001b[1;33m=\u001b[0m \u001b[1;33m[\u001b[0m\u001b[1;36m0.0001\u001b[0m\u001b[1;33m,\u001b[0m\u001b[1;36m0.001\u001b[0m\u001b[1;33m,\u001b[0m\u001b[1;36m0.01\u001b[0m\u001b[1;33m,\u001b[0m\u001b[1;36m0.1\u001b[0m\u001b[1;33m,\u001b[0m\u001b[1;36m1\u001b[0m\u001b[1;33m,\u001b[0m\u001b[1;36m10\u001b[0m\u001b[1;33m,\u001b[0m\u001b[1;36m100\u001b[0m\u001b[1;33m]\u001b[0m\u001b[1;33m\u001b[0m\u001b[0m\n\u001b[1;32m----> 4\u001b[1;33m \u001b[0mrcvMod\u001b[0m \u001b[1;33m=\u001b[0m \u001b[0mRidgeClassifierCV\u001b[0m\u001b[1;33m(\u001b[0m\u001b[0malphas\u001b[0m\u001b[1;33m=\u001b[0m\u001b[0mc\u001b[0m\u001b[1;33m,\u001b[0m\u001b[0mstore_cv_values\u001b[0m\u001b[1;33m=\u001b[0m\u001b[1;32mTrue\u001b[0m\u001b[1;33m)\u001b[0m\u001b[1;33m\u001b[0m\u001b[0m\n\u001b[0m\u001b[0;32m      5\u001b[0m \u001b[0mrcvModfit\u001b[0m \u001b[1;33m=\u001b[0m \u001b[0mrcvMod\u001b[0m\u001b[1;33m.\u001b[0m\u001b[0mfit\u001b[0m\u001b[1;33m(\u001b[0m\u001b[0mX_train\u001b[0m\u001b[1;33m,\u001b[0m\u001b[0mY_train\u001b[0m\u001b[1;33m)\u001b[0m\u001b[1;33m\u001b[0m\u001b[0m\n",
      "\u001b[1;31mTypeError\u001b[0m: __init__() got an unexpected keyword argument 'store_cv_values'"
     ]
    }
   ],
   "source": [
    "best_score = 0\n",
    "final_c = None\n",
    "c = [0.0001,0.001,0.01,0.1,1,10,100]\n",
    "rcvMod = RidgeClassifierCV(alphas=c)\n",
    "rcvModfit = rcvMod.fit(X_train,Y_train)\n",
    "print(\"Accuracy on train data - \", mod.score(X_train,Y_train))\n",
    "print(\"Accuracy on test data - \", mod.score(X_test,Y_test))"
   ]
  },
  {
   "cell_type": "markdown",
   "metadata": {},
   "source": [
    "<h1>QDA and LDA with All feature scaled</h1>"
   ]
  },
  {
   "cell_type": "code",
   "execution_count": 129,
   "metadata": {},
   "outputs": [],
   "source": [
    "dat = allfeature_scaled.drop('churn',axis=1)\n",
    "dat = dat.drop('Customer_ID',axis=1)\n",
    "target = allfeature_scaled['churn']\n",
    "X_train,X_test,Y_train,Y_test = train_test_split(dat,target,random_state=0)"
   ]
  },
  {
   "cell_type": "code",
   "execution_count": 130,
   "metadata": {},
   "outputs": [
    {
     "name": "stderr",
     "output_type": "stream",
     "text": [
      "C:\\Users\\ISHUHOME\\Anaconda3\\lib\\site-packages\\sklearn\\discriminant_analysis.py:388: UserWarning: Variables are collinear.\n",
      "  warnings.warn(\"Variables are collinear.\")\n"
     ]
    }
   ],
   "source": [
    "# Testing model for LDA\n",
    "LDAmod = LinearDiscriminantAnalysis().fit(X_train, Y_train)"
   ]
  },
  {
   "cell_type": "code",
   "execution_count": 131,
   "metadata": {},
   "outputs": [
    {
     "data": {
      "text/plain": [
       "0.763499245852187"
      ]
     },
     "execution_count": 131,
     "metadata": {},
     "output_type": "execute_result"
    }
   ],
   "source": [
    "LDAmod.score(X_test,Y_test)"
   ]
  },
  {
   "cell_type": "code",
   "execution_count": 132,
   "metadata": {},
   "outputs": [
    {
     "name": "stderr",
     "output_type": "stream",
     "text": [
      "C:\\Users\\ISHUHOME\\Anaconda3\\lib\\site-packages\\sklearn\\discriminant_analysis.py:682: UserWarning: Variables are collinear\n",
      "  warnings.warn(\"Variables are collinear\")\n"
     ]
    }
   ],
   "source": [
    "QDAmod = QuadraticDiscriminantAnalysis().fit(X_train, Y_train)"
   ]
  },
  {
   "cell_type": "code",
   "execution_count": 133,
   "metadata": {},
   "outputs": [
    {
     "data": {
      "text/plain": [
       "0.6042232277526395"
      ]
     },
     "execution_count": 133,
     "metadata": {},
     "output_type": "execute_result"
    }
   ],
   "source": [
    "QDAmod.score(X_test,Y_test)"
   ]
  },
  {
   "cell_type": "code",
   "execution_count": 135,
   "metadata": {},
   "outputs": [],
   "source": [
    "mod = LDAmod"
   ]
  },
  {
   "cell_type": "code",
   "execution_count": 136,
   "metadata": {},
   "outputs": [
    {
     "name": "stdout",
     "output_type": "stream",
     "text": [
      "Accuracy on train data -  0.7589397047584571\n",
      "Accuracy on test data -  0.763499245852187\n",
      "AUC: 0.616\n"
     ]
    }
   ],
   "source": [
    "print(\"Accuracy on train data - \", mod.score(X_train,Y_train))\n",
    "print(\"Accuracy on test data - \", mod.score(X_test,Y_test))\n",
    "Y_test_pred = mod.predict(X_test)\n",
    "test_probs = mod.predict_proba(X_test)\n",
    "fpr,tpr,threshold = roc_curve(Y_test,test_probs[:,1])\n",
    "# calculate AUC\n",
    "auc = roc_auc_score(Y_test, test_probs[:,1])\n",
    "print('AUC: %.3f' % auc)"
   ]
  },
  {
   "cell_type": "code",
   "execution_count": 137,
   "metadata": {},
   "outputs": [
    {
     "name": "stdout",
     "output_type": "stream",
     "text": [
      "[[12628    43]\n",
      " [ 3877    27]]\n"
     ]
    }
   ],
   "source": [
    "confusion=confusion_matrix(Y_test,Y_test_pred)\n",
    "print(confusion)"
   ]
  },
  {
   "cell_type": "code",
   "execution_count": 138,
   "metadata": {
    "scrolled": true
   },
   "outputs": [
    {
     "name": "stderr",
     "output_type": "stream",
     "text": [
      "No handles with labels found to put in legend.\n"
     ]
    },
    {
     "data": {
      "image/png": "[encoded data removed]",
      "text/plain": [
       "<Figure size 432x288 with 1 Axes>"
      ]
     },
     "metadata": {},
     "output_type": "display_data"
    }
   ],
   "source": [
    "plt.figure()\n",
    "plt.plot(fpr,tpr)\n",
    "plt.plot([0, 1], [0, 1], color='navy', lw=1, linestyle='--')\n",
    "plt.xlim([0.0, 1.0])\n",
    "plt.ylim([0.0, 1.05])\n",
    "plt.xlabel('False Positive Rate')\n",
    "plt.ylabel('True Positive Rate')\n",
    "plt.title('Receiver operating characteristic')\n",
    "plt.legend(loc=\"lower right\")\n",
    "plt.show()"
   ]
  },
  {
   "cell_type": "markdown",
   "metadata": {},
   "source": [
    "<h1>Random Forest and ADA boost on data subset</h1>"
   ]
  },
  {
   "cell_type": "code",
   "execution_count": 139,
   "metadata": {},
   "outputs": [],
   "source": [
    "dat = impfeatures_scaled.drop('churn',axis=1)\n",
    "dat = dat.drop('Customer_ID',axis=1)\n",
    "target = impfeatures_scaled['churn']\n",
    "X_train,X_test,Y_train,Y_test = train_test_split(dat,target,random_state=0)"
   ]
  },
  {
   "cell_type": "code",
   "execution_count": 140,
   "metadata": {},
   "outputs": [
    {
     "data": {
      "text/plain": [
       "RandomForestClassifier(bootstrap=True, class_weight=None, criterion='gini',\n",
       "            max_depth=100, max_features=10, max_leaf_nodes=None,\n",
       "            min_impurity_decrease=0.0, min_impurity_split=None,\n",
       "            min_samples_leaf=1, min_samples_split=2,\n",
       "            min_weight_fraction_leaf=0.0, n_estimators=5, n_jobs=1,\n",
       "            oob_score=False, random_state=0, verbose=0, warm_start=False)"
      ]
     },
     "execution_count": 140,
     "metadata": {},
     "output_type": "execute_result"
    }
   ],
   "source": [
    "rf = RandomForestClassifier (n_estimators=5, max_features=10,max_depth=100, random_state=0) \n",
    "rf.fit(X_train,Y_train)"
   ]
  },
  {
   "cell_type": "code",
   "execution_count": 143,
   "metadata": {
    "scrolled": true
   },
   "outputs": [
    {
     "name": "stdout",
     "output_type": "stream",
     "text": [
      "accuracy of Random forest 0.7178280542986425\n"
     ]
    }
   ],
   "source": [
    "Y_test_pred = rf.predict(X_test)\n",
    "print('accuracy of Random forest',rf.score(X_test,Y_test))\n",
    "mod = rf"
   ]
  },
  {
   "cell_type": "code",
   "execution_count": 144,
   "metadata": {},
   "outputs": [
    {
     "name": "stdout",
     "output_type": "stream",
     "text": [
      "Accuracy on train data -  0.9641808455009855\n",
      "Accuracy on test data -  0.7178280542986425\n",
      "AUC: 0.580\n"
     ]
    }
   ],
   "source": [
    "print(\"Accuracy on train data - \", mod.score(X_train,Y_train))\n",
    "print(\"Accuracy on test data - \", mod.score(X_test,Y_test))\n",
    "Y_test_pred = mod.predict(X_test)\n",
    "test_probs = mod.predict_proba(X_test)\n",
    "fpr,tpr,threshold = roc_curve(Y_test,test_probs[:,1])\n",
    "# calculate AUC\n",
    "auc = roc_auc_score(Y_test, test_probs[:,1])\n",
    "print('AUC: %.3f' % auc)"
   ]
  },
  {
   "cell_type": "code",
   "execution_count": 145,
   "metadata": {},
   "outputs": [
    {
     "name": "stdout",
     "output_type": "stream",
     "text": [
      "[[11111  1560]\n",
      " [ 3117   787]]\n"
     ]
    }
   ],
   "source": [
    "confusion=confusion_matrix(Y_test,Y_test_pred)\n",
    "print(confusion)"
   ]
  },
  {
   "cell_type": "code",
   "execution_count": 147,
   "metadata": {
    "scrolled": true
   },
   "outputs": [
    {
     "name": "stderr",
     "output_type": "stream",
     "text": [
      "No handles with labels found to put in legend.\n"
     ]
    },
    {
     "data": {
      "image/png": "[encoded data removed]",
      "text/plain": [
       "<Figure size 432x288 with 1 Axes>"
      ]
     },
     "metadata": {},
     "output_type": "display_data"
    }
   ],
   "source": [
    "plt.figure()\n",
    "plt.plot(fpr,tpr)\n",
    "plt.plot([0, 1], [0, 1], color='navy', lw=1, linestyle='--')\n",
    "plt.xlim([0.0, 1.0])\n",
    "plt.ylim([0.0, 1.05])\n",
    "plt.xlabel('False Positive Rate')\n",
    "plt.ylabel('True Positive Rate')\n",
    "plt.title('Receiver operating characteristic')\n",
    "plt.legend(loc=\"lower right\")\n",
    "plt.show()"
   ]
  },
  {
   "cell_type": "code",
   "execution_count": 149,
   "metadata": {},
   "outputs": [],
   "source": [
    "adaB = AdaBoostClassifier(n_estimators=100)\n",
    "adaBMod = adaB.fit(X_train,Y_train)"
   ]
  },
  {
   "cell_type": "code",
   "execution_count": 150,
   "metadata": {},
   "outputs": [
    {
     "name": "stdout",
     "output_type": "stream",
     "text": [
      "accuracy of Ada boost 0.7663348416289593\n",
      "[[12514   157]\n",
      " [ 3716   188]]\n"
     ]
    }
   ],
   "source": [
    "Y_test_pred = adaBMod.predict(X_test)\n",
    "print('accuracy of Ada boost',adaBMod.score(X_test,Y_test))\n",
    "confusion=confusion_matrix(Y_test,Y_test_pred)\n",
    "print(confusion)"
   ]
  },
  {
   "cell_type": "code",
   "execution_count": 151,
   "metadata": {},
   "outputs": [],
   "source": [
    "Y_test_pred = adaBMod.predict(X_test)\n",
    "test_probs = adaBMod.predict_proba(X_test)\n",
    "fpr,tpr,threshold = roc_curve(Y_test,test_probs[:,1])"
   ]
  },
  {
   "cell_type": "code",
   "execution_count": 152,
   "metadata": {},
   "outputs": [
    {
     "name": "stdout",
     "output_type": "stream",
     "text": [
      "ADABoost - AUC: 0.655\n"
     ]
    }
   ],
   "source": [
    "# calculate AUC\n",
    "auc = roc_auc_score(Y_test, test_probs[:,1])\n",
    "print('ADABoost - AUC: %.3f' % auc)"
   ]
  },
  {
   "cell_type": "code",
   "execution_count": 153,
   "metadata": {},
   "outputs": [
    {
     "name": "stderr",
     "output_type": "stream",
     "text": [
      "No handles with labels found to put in legend.\n"
     ]
    },
    {
     "data": {
      "image/png": "[encoded data removed]",
      "text/plain": [
       "<Figure size 432x288 with 1 Axes>"
      ]
     },
     "metadata": {},
     "output_type": "display_data"
    }
   ],
   "source": [
    "plt.figure()\n",
    "plt.plot(fpr,tpr)\n",
    "plt.plot([0, 1], [0, 1], color='navy', lw=1, linestyle='--')\n",
    "plt.xlim([0.0, 1.0])\n",
    "plt.ylim([0.0, 1.05])\n",
    "plt.xlabel('False Positive Rate')\n",
    "plt.ylabel('True Positive Rate')\n",
    "plt.title('Receiver operating characteristic')\n",
    "plt.legend(loc=\"lower right\")\n",
    "plt.show()"
   ]
  },
  {
   "cell_type": "markdown",
   "metadata": {},
   "source": [
    "<h1>Random Forest and Ada boost using all data scaled</h1>\n",
    "\n"
   ]
  },
  {
   "cell_type": "code",
   "execution_count": 155,
   "metadata": {},
   "outputs": [],
   "source": [
    "dat = allfeature_scaled.drop('churn',axis=1)\n",
    "dat = dat.drop('Customer_ID',axis=1)\n",
    "target = allfeature_scaled['churn']\n",
    "X_train,X_test,Y_train,Y_test = train_test_split(dat,target,random_state=0)"
   ]
  },
  {
   "cell_type": "code",
   "execution_count": 156,
   "metadata": {
    "scrolled": true
   },
   "outputs": [],
   "source": [
    "rf = RandomForestClassifier (n_estimators=5, max_features=10,max_depth=100, random_state=0) \n",
    "rfMod = rf.fit(X_train,Y_train)"
   ]
  },
  {
   "cell_type": "code",
   "execution_count": 157,
   "metadata": {},
   "outputs": [
    {
     "name": "stdout",
     "output_type": "stream",
     "text": [
      "accuracy of Random Forest 0.7205429864253393\n",
      "[[11181  1490]\n",
      " [ 3142   762]]\n"
     ]
    }
   ],
   "source": [
    "\n",
    "mod = rfMod\n",
    "Y_test_pred = mod.predict(X_test)\n",
    "print('accuracy of Random Forest',mod.score(X_test,Y_test))\n",
    "confusion=confusion_matrix(Y_test,Y_test_pred)\n",
    "print(confusion)"
   ]
  },
  {
   "cell_type": "code",
   "execution_count": 158,
   "metadata": {},
   "outputs": [],
   "source": [
    "Y_test_pred = mod.predict(X_test)\n",
    "test_probs = mod.predict_proba(X_test)\n",
    "fpr,tpr,threshold = roc_curve(Y_test,test_probs[:,1])"
   ]
  },
  {
   "cell_type": "code",
   "execution_count": 159,
   "metadata": {},
   "outputs": [
    {
     "name": "stdout",
     "output_type": "stream",
     "text": [
      "Random Forest - AUC: 0.581\n"
     ]
    }
   ],
   "source": [
    "# calculate AUC\n",
    "auc = roc_auc_score(Y_test, test_probs[:,1])\n",
    "print('Random Forest - AUC: %.3f' % auc)"
   ]
  },
  {
   "cell_type": "code",
   "execution_count": 160,
   "metadata": {},
   "outputs": [
    {
     "name": "stderr",
     "output_type": "stream",
     "text": [
      "No handles with labels found to put in legend.\n"
     ]
    },
    {
     "data": {
      "image/png": "[encoded data removed]",
      "text/plain": [
       "<Figure size 432x288 with 1 Axes>"
      ]
     },
     "metadata": {},
     "output_type": "display_data"
    }
   ],
   "source": [
    "plt.figure()\n",
    "plt.plot(fpr,tpr)\n",
    "plt.plot([0, 1], [0, 1], color='navy', lw=1, linestyle='--')\n",
    "plt.xlim([0.0, 1.0])\n",
    "plt.ylim([0.0, 1.05])\n",
    "plt.xlabel('False Positive Rate')\n",
    "plt.ylabel('True Positive Rate')\n",
    "plt.title('Receiver operating characteristic')\n",
    "plt.legend(loc=\"lower right\")\n",
    "plt.show()"
   ]
  },
  {
   "cell_type": "code",
   "execution_count": 162,
   "metadata": {},
   "outputs": [],
   "source": [
    "adaB = AdaBoostClassifier(n_estimators=100)\n",
    "adaBMod = adaB.fit(X_train,Y_train)"
   ]
  },
  {
   "cell_type": "code",
   "execution_count": 163,
   "metadata": {},
   "outputs": [
    {
     "name": "stdout",
     "output_type": "stream",
     "text": [
      "accuracy of Random Forest 0.7650075414781297\n",
      "[[12467   204]\n",
      " [ 3691   213]]\n"
     ]
    }
   ],
   "source": [
    "\n",
    "mod = adaBMod\n",
    "Y_test_pred = mod.predict(X_test)\n",
    "print('accuracy of Random Forest',mod.score(X_test,Y_test))\n",
    "confusion=confusion_matrix(Y_test,Y_test_pred)\n",
    "print(confusion)"
   ]
  },
  {
   "cell_type": "code",
   "execution_count": 164,
   "metadata": {},
   "outputs": [],
   "source": [
    "Y_test_pred = mod.predict(X_test)\n",
    "test_probs = mod.predict_proba(X_test)\n",
    "fpr,tpr,threshold = roc_curve(Y_test,test_probs[:,1])"
   ]
  },
  {
   "cell_type": "code",
   "execution_count": 165,
   "metadata": {},
   "outputs": [
    {
     "name": "stdout",
     "output_type": "stream",
     "text": [
      "Random Forest - AUC: 0.656\n"
     ]
    }
   ],
   "source": [
    "# calculate AUC\n",
    "auc = roc_auc_score(Y_test, test_probs[:,1])\n",
    "print('Random Forest - AUC: %.3f' % auc)"
   ]
  },
  {
   "cell_type": "code",
   "execution_count": 166,
   "metadata": {},
   "outputs": [
    {
     "name": "stderr",
     "output_type": "stream",
     "text": [
      "No handles with labels found to put in legend.\n"
     ]
    },
    {
     "data": {
      "image/png": "[encoded data removed]",
      "text/plain": [
       "<Figure size 432x288 with 1 Axes>"
      ]
     },
     "metadata": {},
     "output_type": "display_data"
    }
   ],
   "source": [
    "plt.figure()\n",
    "plt.plot(fpr,tpr)\n",
    "plt.plot([0, 1], [0, 1], color='navy', lw=1, linestyle='--')\n",
    "plt.xlim([0.0, 1.0])\n",
    "plt.ylim([0.0, 1.05])\n",
    "plt.xlabel('False Positive Rate')\n",
    "plt.ylabel('True Positive Rate')\n",
    "plt.title('Receiver operating characteristic')\n",
    "plt.legend(loc=\"lower right\")\n",
    "plt.show()"
   ]
  },
  {
   "cell_type": "markdown",
   "metadata": {},
   "source": [
    "<h1> SVM with all important Data scaled\n",
    "</h1>"
   ]
  },
  {
   "cell_type": "code",
   "execution_count": null,
   "metadata": {},
   "outputs": [],
   "source": [
    "dat = impfeatures_scaled.drop('churn',axis=1)\n",
    "dat = dat.drop('Customer_ID',axis=1)\n",
    "target = allfeature_scaled['churn']\n",
    "X_train,X_test,Y_train,Y_test = train_test_split(dat,target,random_state=0)"
   ]
  },
  {
   "cell_type": "code",
   "execution_count": 167,
   "metadata": {},
   "outputs": [],
   "source": [
    "svc = SVC(kernel='rbf',gamma = 0.1,C=100)\n",
    "#modSvc = svc.fit(X_test,Y_test)"
   ]
  },
  {
   "cell_type": "code",
   "execution_count": null,
   "metadata": {},
   "outputs": [],
   "source": [
    "\n",
    "mod = modSvc\n",
    "Y_test_pred = mod.predict(X_test)\n",
    "print('accuracy of SVM',mod.score(X_test,Y_test))\n",
    "confusion=confusion_matrix(Y_test,Y_test_pred)\n",
    "print(confusion)"
   ]
  },
  {
   "cell_type": "code",
   "execution_count": 164,
   "metadata": {},
   "outputs": [],
   "source": [
    "Y_test_pred = mod.predict(X_test)\n",
    "test_probs = mod.predict_proba(X_test)\n",
    "fpr,tpr,threshold = roc_curve(Y_test,test_probs[:,1])"
   ]
  },
  {
   "cell_type": "code",
   "execution_count": null,
   "metadata": {},
   "outputs": [],
   "source": [
    "# calculate AUC\n",
    "auc = roc_auc_score(Y_test, test_probs[:,1])\n",
    "print('SVM - AUC: %.3f' % auc)"
   ]
  },
  {
   "cell_type": "code",
   "execution_count": null,
   "metadata": {},
   "outputs": [],
   "source": [
    "plt.figure()\n",
    "plt.plot(fpr,tpr)\n",
    "plt.plot([0, 1], [0, 1], color='navy', lw=1, linestyle='--')\n",
    "plt.xlim([0.0, 1.0])\n",
    "plt.ylim([0.0, 1.05])\n",
    "plt.xlabel('False Positive Rate')\n",
    "plt.ylabel('True Positive Rate')\n",
    "plt.title('Receiver operating characteristic')\n",
    "plt.legend(loc=\"lower right\")\n",
    "plt.show()"
   ]
  },
  {
   "cell_type": "code",
   "execution_count": null,
   "metadata": {},
   "outputs": [],
   "source": []
  },
  {
   "cell_type": "markdown",
   "metadata": {},
   "source": [
    "<h1>\n",
    "Support vector machines with all data scaled\n",
    "</h1>"
   ]
  },
  {
   "cell_type": "raw",
   "metadata": {},
   "source": [
    "dat = allfeature_scaled.drop('churn',axis=1)\n",
    "dat = dat.drop('Customer_ID',axis=1)\n",
    "target = allfeature_scaled['churn']\n",
    "X_train,X_test,Y_train,Y_test = train_test_split(dat,target,random_state=0)"
   ]
  },
  {
   "cell_type": "raw",
   "metadata": {},
   "source": [
    "svc = SVC(kernel='rbf',gamma = 0.1,C=100)\n",
    "#modSvc = svc.fit(X_test,Y_test)"
   ]
  },
  {
   "cell_type": "raw",
   "metadata": {},
   "source": [
    "\n",
    "mod = modSvc\n",
    "Y_test_pred = mod.predict(X_test)\n",
    "print('accuracy of SVM',mod.score(X_test,Y_test))\n",
    "confusion=confusion_matrix(Y_test,Y_test_pred)\n",
    "print(confusion)"
   ]
  },
  {
   "cell_type": "raw",
   "metadata": {},
   "source": [
    "Y_test_pred = mod.predict(X_test)\n",
    "test_probs = mod.predict_proba(X_test)\n",
    "fpr,tpr,threshold = roc_curve(Y_test,test_probs[:,1])"
   ]
  },
  {
   "cell_type": "raw",
   "metadata": {},
   "source": [
    "# calculate AUC\n",
    "auc = roc_auc_score(Y_test, test_probs[:,1])\n",
    "print('SVM - AUC: %.3f' % auc)"
   ]
  },
  {
   "cell_type": "code",
   "execution_count": null,
   "metadata": {},
   "outputs": [],
   "source": [
    "plt.figure()\n",
    "plt.plot(fpr,tpr)\n",
    "plt.plot([0, 1], [0, 1], color='navy', lw=1, linestyle='--')\n",
    "plt.xlim([0.0, 1.0])\n",
    "plt.ylim([0.0, 1.05])\n",
    "plt.xlabel('False Positive Rate')\n",
    "plt.ylabel('True Positive Rate')\n",
    "plt.title('Receiver operating characteristic')\n",
    "plt.legend(loc=\"lower right\")\n",
    "plt.show()"
   ]
  }
 ],
 "metadata": {
  "kernelspec": {
   "display_name": "Python 3",
   "language": "python",
   "name": "python3"
  },
  "language_info": {
   "codemirror_mode": {
    "name": "ipython",
    "version": 3
   },
   "file_extension": ".py",
   "mimetype": "text/x-python",
   "name": "python",
   "nbconvert_exporter": "python",
   "pygments_lexer": "ipython3",
   "version": "3.6.5"
  }
 },
 "nbformat": 4,
 "nbformat_minor": 2
}
